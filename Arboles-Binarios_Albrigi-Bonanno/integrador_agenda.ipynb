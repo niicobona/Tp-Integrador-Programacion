{
 "cells": [
  {
   "cell_type": "markdown",
   "id": "fbe54c4c",
   "metadata": {},
   "source": [
    "# AGREGAR NOMBRES"
   ]
  },
  {
   "cell_type": "code",
   "execution_count": null,
   "id": "2a438d76",
   "metadata": {},
   "outputs": [],
   "source": [
    "agenda = None                                                   #Lista vacia de la agenda.\n",
    "\n",
    "\n",
    "def agregar(agenda, nombre):                                    #Función que agrega nombres a la agenda.\n",
    "    nombre=nombre.capitalize()                                  #Variable donde se guarda el nombre ingresado, acompañado del metodo .capitalice() para almacenar el nombre con su primer letra mayuscula y resto minuscula.\n",
    "    if agenda is None:                                          #Condicional if que verifica si la lista esta vacia, si es True retorna la variable nombre.\n",
    "        return [nombre, None, None]                             #[dato, dato izq, dato der].\n",
    "    if nombre < agenda[0]:                                      #Condicional que verifica si el siguiente nombre ingresado es menor al primer indice de la agenda[0].\n",
    "        agenda[1] = agregar(agenda[1], nombre)                  #Llama a la funcion recursiva, desde la variable del indice 1 de la agenda[1] (Agrega los nombres a su lado izquierdo).\n",
    "    elif nombre > agenda [0]:                                   #Condicional que verifica si el siguiente nombre ingresado es mayor que el primer indice de la agenda[0].\n",
    "        agenda[2] = agregar(agenda[2], nombre)                  #Llama a la funcion recursiva, desde la variable del indice 1 de la agenda[2] (Agrega los nombres a su lado derecho).\n",
    "    return agenda                                               #No se inserta si es dupliucado.\n",
    "\n",
    "\n",
    "while True:                                                     #Bucle While para verificar el nombre ingresado.\n",
    "    nombre=(input(\"Ingrese un nombre o cero para finalizar\"))   #Solicitda un nombre al usuario por pantalla a traves de un input.\n",
    "    nombre=nombre.strip()                                       #Almacena el nombre en una variable y mediante el metodo .strip() elimina cualquier espacio en blanco en el str del dato ingresado.\n",
    "    if nombre == \"0\":                                           #Se evalua la informacion del usuario si esta es \"0\",sale del programa.\n",
    "        break\n",
    "    elif nombre == \"\":                                          #Si el usuario no ingresa nada, se le muestra un mensaje de error y se solicita nuevamente la información.\n",
    "        print(\"Error: No ha ingresado ningún nombre. Intente nuevamente.\")\n",
    "        continue\n",
    "    elif nombre.isdigit():                                      #De la misma manera si el usuario ingresa un digito, se el mostrara un mensaje de error.\n",
    "        print(\"Error: Ha ingresado un número. Intente nuevamente.\")\n",
    "        continue\n",
    "    else:\n",
    "        agenda = agregar(agenda, nombre)                        #Si es correcto se llama a la funcion agregar nombre, para almacenar la información.\n",
    "\n",
    "print(agenda)"
   ]
  },
  {
   "cell_type": "markdown",
   "id": "0543dcee",
   "metadata": {},
   "source": [
    "# MOSTRAR AGENDA (ESTRUCTURA DE ARBOL)"
   ]
  },
  {
   "cell_type": "code",
   "execution_count": null,
   "id": "011e7ab8",
   "metadata": {},
   "outputs": [],
   "source": [
    "def mostrar_agenda(agenda, prefijo=\"\", es_izquierda=True):                                          #Función para mostrar la estructura del arbol de forma grafica.\n",
    "    if agenda is not None:                                                                          #Mostrar por pantalla un prefijo que va acumulando espacios y lineas para crear sangrias y conectar elementos.\n",
    "        print(prefijo + (\"├── \" if es_izquierda else \"└──\") + agenda[0])                            #y un parametro \"es_izquierda\" que indica si debe utilizar un conoector u otro.\n",
    "        if agenda[1] is not None or agenda[2] is not None:\n",
    "            mostrar_agenda(agenda[1], prefijo + (\"│  \" if es_izquierda else \"    \"), True)          #Llamado a la recursividad para subarbol izquierdo.\n",
    "            mostrar_agenda(agenda[2], prefijo + (\"│  \" if es_izquierda else \"    \"), False)         #Llamado a la recursividad para subarbol derecho.\n",
    "\n",
    "mostrar_agenda(agenda)"
   ]
  },
  {
   "cell_type": "markdown",
   "id": "0dc487f5",
   "metadata": {},
   "source": [
    "# FUNCIÓN BUSCAR NOMBRE"
   ]
  },
  {
   "cell_type": "code",
   "execution_count": null,
   "id": "d8955f6e",
   "metadata": {},
   "outputs": [],
   "source": [
    "\n",
    "def buscar_nombre(agenda, nombre):                               #Función que recorre la agenda para buscar un nombre determinado.\n",
    "    if agenda is None:                                           #Si la agenda esta vacia, retorna False.\n",
    "        return False                                                    \n",
    "    elif nombre == agenda[0]:                                    #Si el nombre es igual al primer indice de la agenda, se retorna True.\n",
    "        return True\n",
    "    elif nombre < agenda[0]:                                     #Sino se busca el nombre hacia la izqueirda de la estructura.\n",
    "        return buscar_nombre(agenda[1], nombre)\n",
    "    else:                                                        #Y si es mayor se busca el nombre hacia la derecha.\n",
    "        return buscar_nombre(agenda[2], nombre)"
   ]
  },
  {
   "cell_type": "markdown",
   "id": "6d915a88",
   "metadata": {},
   "source": [
    "# FUNCION BORRAR NOMBRE"
   ]
  },
  {
   "cell_type": "code",
   "execution_count": null,
   "id": "4ee1a81b",
   "metadata": {},
   "outputs": [],
   "source": [
    "def extraer_predecesor(agenda):                                         #Función para buscar al nodo predecesor, cuando borremos algun nombre de la agenda.\n",
    "    lista_predecesor = agenda                                           #Se asigna nueva variable a la lista actual.\n",
    "    if lista_predecesor[2] is not None:                                 #Se verifica si tiene un hijo derecho.\n",
    "        lista_predecesor = lista_predecesor[2]                          #Si es True, se le asigna ese nodo a lista_predecesor.\n",
    "    return lista_predecesor[0]                                          #Sino se retorna el nodo almacenado en lista_predecesor[0], que seria el nombre del supuesto predecesor.\n",
    "\n",
    "def borrar_nombre(agenda, nombre):                                      #Función para borrar nombres de la agenda.\n",
    "    if agenda is None:                                                  #Verifica si la agenda esta vacia, de ser asi devuelve \"None\".\n",
    "        return None\n",
    "\n",
    "    if nombre == agenda[0]:                                             #Se encuentra el nodo con el nombre que queremos borrar.\n",
    "    # Si el nodo no tiene hijos\n",
    "        if agenda[1] is None and agenda[2] is None:                     #Si no tiene hijos elimina y retorna \"None\" al padre.\n",
    "            return None\n",
    "    # Si tiene hijo a la derecha\n",
    "        elif agenda[1] is None:                                         #Remplaza el nodo con su hijo derecho.\n",
    "            return agenda[2]\n",
    "    # si tiene hijo a la izquierda\n",
    "        elif agenda[2] is None:                                         #Remplaza el nodo con su hijo izquierdo.\n",
    "            return agenda[1]\n",
    "    # Si tene hijos en ambos lados\n",
    "        else:\n",
    "            nodo_predecesor = extraer_predecesor(agenda[1])             #Manda a llamar a la funcion etxraer_predecesor.\n",
    "            agenda[0] = nodo_predecesor                                 #Remplaza el dato actual por el predecesor.\n",
    "            agenda[1] = borrar_nombre(agenda[1], nodo_predecesor)       #Se elimina el nodo que contenía originalmente el valor nodo_predecesor.\n",
    "            return agenda                                               #Se retorna la agenda actualizada.\n",
    "\n",
    "    elif nombre < agenda[0]:                                            #Si el nombre es menor el altual busca y elimina recursivamente hacia la izquierda.\n",
    "        agenda[1] = borrar_nombre(agenda[1], nombre)\n",
    "    else:                                                               #Si es mayor busca y elimina recursivamente hacia la derecha.\n",
    "        agenda[2] = borrar_nombre(agenda[2], nombre)                    \n",
    "\n",
    "    return agenda                                                       #Retorna la agenda modificada."
   ]
  },
  {
   "cell_type": "code",
   "execution_count": null,
   "id": "61a66349",
   "metadata": {},
   "outputs": [],
   "source": [
    "nombre_ingresado = input(\"Ingrese el nombre que desea buscar: \").capitalize()\n",
    "\n",
    "# Se evalua si esta en la lista o no\n",
    "if buscar_nombre(agenda, nombre_ingresado):                                          #Se busca el contacto llamando a la funcion buscar nombre\n",
    "    consulta_borrado=input(\"¿Desea borrar el nombre? Ingrese si o no: \")             #Si el contacto está entonces se pregunta si el usuario desea eliminar el contacto\n",
    "    consulta_borrado=consulta_borrado.lower()\n",
    "    if consulta_borrado==\"si\":                                                       #Se evalúa si la respuesta es si\n",
    "        agenda=borrar_nombre(agenda,nombre_ingresado)\n",
    "        print(f\"{nombre_ingresado} ha sido eliminado de la agenda.\")                 #Se notifica al usuario que el contacto fue eliminado\n",
    "else:\n",
    "    consulta_agregado=input(\"¿Desea agregar el contacto? Ingrese si o no: \")         #Si el contacto no está en la agenda entonces se pregunta si el usuario desea eliminar el contacto\n",
    "    consulta_agregado=consulta_agregado.lower()\n",
    "    if consulta_agregado==\"si\":                                                      #Se evalúa si la respuesta es si    \n",
    "        agenda=agregar(agenda,nombre_ingresado)\n",
    "        print(f\"{nombre_ingresado} ha sido agregado a la agenda.\")                   #Se notifica al usuario que el contacto fue agregado\n",
    "    \n",
    "\n",
    "print(agenda)"
   ]
  }
 ],
 "metadata": {
  "kernelspec": {
   "display_name": "Python 3",
   "language": "python",
   "name": "python3"
  },
  "language_info": {
   "codemirror_mode": {
    "name": "ipython",
    "version": 3
   },
   "file_extension": ".py",
   "mimetype": "text/x-python",
   "name": "python",
   "nbconvert_exporter": "python",
   "pygments_lexer": "ipython3",
   "version": "3.13.4"
  }
 },
 "nbformat": 4,
 "nbformat_minor": 5
}
